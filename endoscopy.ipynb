{
  "cells": [
    {
      "cell_type": "code",
      "execution_count": null,
      "metadata": {
        "collapsed": true,
        "id": "psBWCLABkiRP"
      },
      "outputs": [],
      "source": [
        "import numpy as np\n",
        "import pickle\n",
        "import cv2\n",
        "import tensorflow\n",
        "from os import listdir\n",
        "from sklearn.preprocessing import LabelBinarizer\n",
        "from tensorflow.keras.models import Sequential, load_model\n",
        "from tensorflow.keras.layers import Conv2D, MaxPooling2D\n",
        "from tensorflow.keras.layers import BatchNormalization\n",
        "from tensorflow.keras.layers import Activation, Flatten, Dropout, Dense\n",
        "from tensorflow.keras import backend as K\n",
        "from tensorflow.keras.preprocessing.image import ImageDataGenerator\n",
        "from tensorflow.keras.optimizers import Adam\n",
        "from tensorflow.keras.preprocessing import image\n",
        "from tensorflow.keras.preprocessing.image import img_to_array\n",
        "from sklearn.preprocessing import MultiLabelBinarizer\n",
        "from sklearn.model_selection import train_test_split\n",
        "import matplotlib.pyplot as plt"
      ]
    },
    {
      "cell_type": "code",
      "execution_count": null,
      "metadata": {
        "id": "v9rlxB_Yn3sU",
        "colab": {
          "base_uri": "https://localhost:8080/"
        },
        "outputId": "01be9c4d-2fa9-4f96-cf95-1501835e9995"
      },
      "outputs": [
        {
          "output_type": "stream",
          "name": "stdout",
          "text": [
            "Drive mounting: Mounted at /content/drive\n",
            "Unzipping file \"/content/drive/My Drive/labelled_images.zip\" to \"/content/main_input\"\n"
          ]
        }
      ],
      "source": [
        "from google.colab import drive\n",
        "print(\"Drive mounting: \",end=\"\")\n",
        "drive.mount('/content/drive', force_remount=True)\n",
        "\n",
        "import shutil\n",
        "filename = \"/content/drive/My Drive/labelled_images.zip\"\n",
        "extract_dir = \"/content/main_input\"\n",
        "print(f'Unzipping file \"{filename}\" to \"{extract_dir}\"')\n",
        "shutil.unpack_archive(filename, extract_dir)"
      ]
    },
    {
      "cell_type": "code",
      "execution_count": null,
      "metadata": {
        "collapsed": true,
        "id": "3X4IkEAskiRR"
      },
      "outputs": [],
      "source": [
        "# Values for the training the model\n",
        "\n",
        "EPOCHS = 25 # default 25\n",
        "INIT_LR = 1e-3\n",
        "BS = 32\n",
        "default_image_size = tuple((256, 256))\n",
        "image_size = 0\n",
        "directory_root = '/content/main_input/labelled_images'\n",
        "width=256\n",
        "height=256\n",
        "depth=3\n",
        "\n",
        "# function for converting image to matrix of the pixel values\n",
        "def convert_image_to_array(image_dir):\n",
        "    try:\n",
        "        image = cv2.imread(image_dir)\n",
        "        # plt.imshow(image)\n",
        "        if image is not None :\n",
        "            image = cv2.resize(image, default_image_size)\n",
        "            return img_to_array(image)\n",
        "        else :\n",
        "            return np.array([])\n",
        "    except Exception as e:\n",
        "        print(f\"Error : {e}\")\n",
        "        return None"
      ]
    },
    {
      "cell_type": "markdown",
      "source": [
        "Total dataset <br>\n",
        "name                | no of images <br>\n",
        "<p>-----------------------------</p>\n",
        "Reduced mucosal view | 2906 <br>\n",
        "Foreign body         | 776 <br>\n",
        "Blood - hematin      | 12 <br>\n",
        "Blood - fresh        | 446 <br>\n",
        "Erosion              | 506 <br>\n",
        "Ulcer                | 854 <br>\n",
        "Ileocecal valve      | 4189 <br>\n",
        "Lymphangiectasia     | 592 <br>\n",
        "Pylorus              | 1529 <br>\n",
        "Erythema             | 159 <br>\n",
        "Angiectasia          | 866 <br>\n",
        "Polyp                | 55 <br>\n",
        "Normal clean mucosa  | 34338 <br>\n",
        "Ampulla of vater     | 10"
      ],
      "metadata": {
        "id": "8vKotgGc3h9E"
      }
    },
    {
      "cell_type": "code",
      "execution_count": null,
      "metadata": {
        "collapsed": true,
        "id": "CXToQwnQkiRR",
        "colab": {
          "base_uri": "https://localhost:8080/"
        },
        "outputId": "e0f8ce67-bb62-4792-8a4a-2cca1c156919"
      },
      "outputs": [
        {
          "output_type": "stream",
          "name": "stdout",
          "text": [
            "Loading images ...\n",
            "Lower range of images per disease: 1000\n",
            "How many images per disease: 500\n",
            "\n",
            "name     |    no of images\n",
            "Lymphangiectasia 592\n",
            "Erosion 506\n",
            "Blood - fresh 446\n",
            "Polyp 55\n",
            "Blood - hematin 12\n",
            "Erythema 159\n",
            "Normal clean mucosa 34338\n",
            "Foreign body 776\n",
            "Reduced mucosal view 2906\n",
            "Angiectasia 866\n",
            "Ampulla of vater 10\n",
            "Ileocecal valve 4189\n",
            "Pylorus 1529\n",
            "Ulcer 854\n",
            "\n",
            "Total images used 2000 from 4 different diseases - ['Ileocecal valve' 'Normal clean mucosa' 'Pylorus' 'Reduced mucosal view']\n"
          ]
        }
      ],
      "source": [
        "image_list, label_list = [], []\n",
        "try:\n",
        "\n",
        "    print(\"Loading images ...\")\n",
        "    filter_count = input('Lower range of images per disease: ')\n",
        "    images_count = input('How many images per disease: ')\n",
        "    print('\\nname     |    no of images')\n",
        "\n",
        "    root_dir = listdir(directory_root)\n",
        "    for folder in root_dir:\n",
        "      label = listdir(f\"{directory_root}/{folder}\")\n",
        "      image_directory = listdir(f\"{directory_root}/{folder}/{label[0]}\")\n",
        "      print(label[0], len(image_directory))\n",
        "      if len(image_directory)>=int(filter_count):\n",
        "        for image in image_directory[:int(images_count)]:\n",
        "          img_path = f\"{directory_root}/{folder}/{label[0]}/{image}\"\n",
        "          image_list.append(convert_image_to_array(img_path))\n",
        "          label_list.append(label[0])\n",
        "except Exception as e:\n",
        "    print(f\"Error : {e}\")\n",
        "\n",
        "label_binarizer = LabelBinarizer()\n",
        "image_labels = label_binarizer.fit_transform(label_list)\n",
        "pickle.dump(label_binarizer,open('label_transform.pkl', 'wb'))\n",
        "n_classes = len(label_binarizer.classes_)\n",
        "print(f\"\\nTotal images used {len(image_list)} from {n_classes} different diseases - {label_binarizer.classes_}\")"
      ]
    },
    {
      "cell_type": "code",
      "execution_count": null,
      "metadata": {
        "collapsed": true,
        "id": "IUTc7HGQkiRT",
        "colab": {
          "base_uri": "https://localhost:8080/"
        },
        "outputId": "b1b67a3f-57c6-4077-fa8f-c70b49061cf7"
      },
      "outputs": [
        {
          "output_type": "stream",
          "name": "stdout",
          "text": [
            "2000 images normalized\n",
            "Spllited data to train, test : 1300 700 1300 700\n"
          ]
        }
      ],
      "source": [
        "np_image_list = np.array(image_list, dtype=np.float16) / 225.0\n",
        "print(len(np_image_list),'images normalized')\n",
        "x_train, x_test, y_train, y_test = train_test_split(np_image_list, image_labels, test_size=0.35, random_state = 42)\n",
        "# k-fold cross validation here k=1 I think\n",
        "# x_train means evidance or input and y_train means the labels or output\n",
        "print(\"Spllited data to train, test :\",len(x_train),len(x_test),len(y_train),len(y_test))"
      ]
    },
    {
      "cell_type": "code",
      "execution_count": null,
      "metadata": {
        "collapsed": true,
        "id": "HVETTeA1kiRT"
      },
      "outputs": [],
      "source": [
        "aug = ImageDataGenerator(\n",
        "    rotation_range=25, width_shift_range=0.1,\n",
        "    height_shift_range=0.1, shear_range=0.2,\n",
        "    zoom_range=0.2,horizontal_flip=True,\n",
        "    fill_mode=\"nearest\")"
      ]
    },
    {
      "cell_type": "code",
      "execution_count": null,
      "metadata": {
        "collapsed": true,
        "id": "BoqUYMYukiRU",
        "colab": {
          "base_uri": "https://localhost:8080/"
        },
        "outputId": "69d35931-783a-42ca-e677-8f3dc3652e8e"
      },
      "outputs": [
        {
          "output_type": "stream",
          "name": "stdout",
          "text": [
            "Model: \"sequential_1\"\n",
            "_________________________________________________________________\n",
            " Layer (type)                Output Shape              Param #   \n",
            "=================================================================\n",
            " conv2d_5 (Conv2D)           (None, 256, 256, 32)      896       \n",
            "                                                                 \n",
            " batch_normalization_6 (Bat  (None, 256, 256, 32)      128       \n",
            " chNormalization)                                                \n",
            "                                                                 \n",
            " max_pooling2d_5 (MaxPoolin  (None, 128, 128, 32)      0         \n",
            " g2D)                                                            \n",
            "                                                                 \n",
            " dropout_4 (Dropout)         (None, 128, 128, 32)      0         \n",
            "                                                                 \n",
            " conv2d_6 (Conv2D)           (None, 128, 128, 64)      18496     \n",
            "                                                                 \n",
            " batch_normalization_7 (Bat  (None, 128, 128, 64)      256       \n",
            " chNormalization)                                                \n",
            "                                                                 \n",
            " max_pooling2d_6 (MaxPoolin  (None, 64, 64, 64)        0         \n",
            " g2D)                                                            \n",
            "                                                                 \n",
            " conv2d_7 (Conv2D)           (None, 64, 64, 64)        36928     \n",
            "                                                                 \n",
            " batch_normalization_8 (Bat  (None, 64, 64, 64)        256       \n",
            " chNormalization)                                                \n",
            "                                                                 \n",
            " max_pooling2d_7 (MaxPoolin  (None, 32, 32, 64)        0         \n",
            " g2D)                                                            \n",
            "                                                                 \n",
            " dropout_5 (Dropout)         (None, 32, 32, 64)        0         \n",
            "                                                                 \n",
            " conv2d_8 (Conv2D)           (None, 32, 32, 128)       73856     \n",
            "                                                                 \n",
            " batch_normalization_9 (Bat  (None, 32, 32, 128)       512       \n",
            " chNormalization)                                                \n",
            "                                                                 \n",
            " max_pooling2d_8 (MaxPoolin  (None, 16, 16, 128)       0         \n",
            " g2D)                                                            \n",
            "                                                                 \n",
            " conv2d_9 (Conv2D)           (None, 16, 16, 128)       147584    \n",
            "                                                                 \n",
            " batch_normalization_10 (Ba  (None, 16, 16, 128)       512       \n",
            " tchNormalization)                                               \n",
            "                                                                 \n",
            " max_pooling2d_9 (MaxPoolin  (None, 8, 8, 128)         0         \n",
            " g2D)                                                            \n",
            "                                                                 \n",
            " dropout_6 (Dropout)         (None, 8, 8, 128)         0         \n",
            "                                                                 \n",
            " flatten_1 (Flatten)         (None, 8192)              0         \n",
            "                                                                 \n",
            " dense_2 (Dense)             (None, 1024)              8389632   \n",
            "                                                                 \n",
            " batch_normalization_11 (Ba  (None, 1024)              4096      \n",
            " tchNormalization)                                               \n",
            "                                                                 \n",
            " dropout_7 (Dropout)         (None, 1024)              0         \n",
            "                                                                 \n",
            " dense_3 (Dense)             (None, 4)                 4100      \n",
            "                                                                 \n",
            "=================================================================\n",
            "Total params: 8677252 (33.10 MB)\n",
            "Trainable params: 8674372 (33.09 MB)\n",
            "Non-trainable params: 2880 (11.25 KB)\n",
            "_________________________________________________________________\n"
          ]
        }
      ],
      "source": [
        "# Support Vector Classifier [frpm sklearn.svm import SVC]\n",
        "# Perceptron [from sklearn.linear_model import Perceptron]\n",
        "# Gaussian [from sklearn.naive_bayes import GaussianNB]\n",
        "# K neighbors [from sklearn.neighbors import KNeighborsClassifier] KNeighborsClassifier(n_neighbors=3)\n",
        "# Default model Seuential\n",
        "model = Sequential()\n",
        "inputShape = (height, width, depth)\n",
        "chanDim = -1\n",
        "if K.image_data_format() == \"channels_first\":\n",
        "    inputShape = (depth, height, width)\n",
        "    chanDim = 1\n",
        "\n",
        "model.add(Conv2D(32, (3, 3), activation=\"relu\", padding=\"same\", input_shape=inputShape))\n",
        "model.add(BatchNormalization(axis=chanDim))\n",
        "model.add(MaxPooling2D((2, 2)))\n",
        "model.add(Dropout(0.25))\n",
        "\n",
        "model.add(Conv2D(64, (3, 3), activation=\"relu\", padding=\"same\"))\n",
        "model.add(BatchNormalization(axis=chanDim))\n",
        "model.add(MaxPooling2D((2, 2)))\n",
        "\n",
        "model.add(Conv2D(64, (3, 3), activation=\"relu\", padding=\"same\"))\n",
        "model.add(BatchNormalization(axis=chanDim))\n",
        "model.add(MaxPooling2D((2, 2)))\n",
        "model.add(Dropout(0.25))\n",
        "\n",
        "model.add(Conv2D(128, (3, 3), activation=\"relu\", padding=\"same\"))\n",
        "model.add(BatchNormalization(axis=chanDim))\n",
        "model.add(MaxPooling2D((2, 2)))\n",
        "\n",
        "model.add(Conv2D(128, (3, 3), activation=\"relu\", padding=\"same\"))\n",
        "model.add(BatchNormalization(axis=chanDim))\n",
        "model.add(MaxPooling2D((2, 2)))\n",
        "model.add(Dropout(0.25))\n",
        "\n",
        "model.add(Flatten())\n",
        "model.add(Dense(1024, activation=\"relu\"))\n",
        "model.add(BatchNormalization())\n",
        "model.add(Dropout(0.5))\n",
        "\n",
        "# Replace 'n_classes' with the number of output classes\n",
        "model.add(Dense(n_classes, activation=\"softmax\"))\n",
        "\n",
        "model.summary()"
      ]
    },
    {
      "cell_type": "code",
      "execution_count": null,
      "metadata": {
        "colab": {
          "base_uri": "https://localhost:8080/"
        },
        "collapsed": true,
        "id": "wxDxjxokkiRU",
        "outputId": "ee4445c2-65a8-4f90-cf1d-a1e513ed7a60"
      },
      "outputs": [
        {
          "output_type": "stream",
          "name": "stdout",
          "text": [
            "Training neural network...\n",
            "Epoch 1/25\n",
            "40/40 [==============================] - 32s 675ms/step - loss: 0.7873 - accuracy: 0.5410 - val_loss: 0.9904 - val_accuracy: 0.2943\n",
            "Epoch 2/25\n",
            "40/40 [==============================] - 22s 559ms/step - loss: 0.5099 - accuracy: 0.6601 - val_loss: 1.4369 - val_accuracy: 0.2543\n",
            "Epoch 3/25\n",
            "40/40 [==============================] - 21s 525ms/step - loss: 0.3927 - accuracy: 0.7232 - val_loss: 0.8878 - val_accuracy: 0.2557\n",
            "Epoch 4/25\n",
            "40/40 [==============================] - 22s 558ms/step - loss: 0.3620 - accuracy: 0.7177 - val_loss: 0.6758 - val_accuracy: 0.2471\n",
            "Epoch 5/25\n",
            "40/40 [==============================] - 21s 521ms/step - loss: 0.3376 - accuracy: 0.7342 - val_loss: 0.7959 - val_accuracy: 0.3157\n",
            "Epoch 6/25\n",
            "40/40 [==============================] - 22s 553ms/step - loss: 0.3122 - accuracy: 0.7666 - val_loss: 0.8388 - val_accuracy: 0.3157\n",
            "Epoch 7/25\n",
            "40/40 [==============================] - 21s 529ms/step - loss: 0.3227 - accuracy: 0.7508 - val_loss: 1.4102 - val_accuracy: 0.3186\n",
            "Epoch 8/25\n",
            "40/40 [==============================] - 23s 563ms/step - loss: 0.2926 - accuracy: 0.7642 - val_loss: 1.5170 - val_accuracy: 0.3071\n",
            "Epoch 9/25\n",
            "40/40 [==============================] - 22s 540ms/step - loss: 0.2809 - accuracy: 0.7823 - val_loss: 1.4961 - val_accuracy: 0.3371\n",
            "Epoch 10/25\n",
            "40/40 [==============================] - 22s 553ms/step - loss: 0.2649 - accuracy: 0.7973 - val_loss: 1.4321 - val_accuracy: 0.3343\n",
            "Epoch 11/25\n",
            "40/40 [==============================] - 21s 515ms/step - loss: 0.2486 - accuracy: 0.8218 - val_loss: 0.7627 - val_accuracy: 0.4100\n",
            "Epoch 12/25\n",
            "40/40 [==============================] - 22s 552ms/step - loss: 0.2589 - accuracy: 0.8052 - val_loss: 0.4923 - val_accuracy: 0.6514\n",
            "Epoch 13/25\n",
            "40/40 [==============================] - 23s 569ms/step - loss: 0.2587 - accuracy: 0.8178 - val_loss: 0.5393 - val_accuracy: 0.5343\n",
            "Epoch 14/25\n",
            "40/40 [==============================] - 22s 553ms/step - loss: 0.2352 - accuracy: 0.8107 - val_loss: 0.5815 - val_accuracy: 0.5814\n",
            "Epoch 15/25\n",
            "40/40 [==============================] - 21s 519ms/step - loss: 0.2204 - accuracy: 0.8431 - val_loss: 0.4109 - val_accuracy: 0.6643\n",
            "Epoch 16/25\n",
            "40/40 [==============================] - 22s 547ms/step - loss: 0.2183 - accuracy: 0.8352 - val_loss: 0.4466 - val_accuracy: 0.6557\n",
            "Epoch 17/25\n",
            "40/40 [==============================] - 22s 554ms/step - loss: 0.2309 - accuracy: 0.8194 - val_loss: 0.3996 - val_accuracy: 0.7243\n",
            "Epoch 18/25\n",
            "40/40 [==============================] - 22s 557ms/step - loss: 0.2228 - accuracy: 0.8344 - val_loss: 0.4791 - val_accuracy: 0.7157\n",
            "Epoch 19/25\n",
            "40/40 [==============================] - 22s 555ms/step - loss: 0.2062 - accuracy: 0.8509 - val_loss: 0.5425 - val_accuracy: 0.5943\n",
            "Epoch 20/25\n",
            "40/40 [==============================] - 21s 526ms/step - loss: 0.2134 - accuracy: 0.8352 - val_loss: 0.8512 - val_accuracy: 0.5214\n",
            "Epoch 21/25\n",
            "40/40 [==============================] - 22s 555ms/step - loss: 0.1941 - accuracy: 0.8486 - val_loss: 0.3134 - val_accuracy: 0.7743\n",
            "Epoch 22/25\n",
            "40/40 [==============================] - 22s 550ms/step - loss: 0.2002 - accuracy: 0.8502 - val_loss: 0.5497 - val_accuracy: 0.6386\n",
            "Epoch 23/25\n",
            "40/40 [==============================] - 21s 531ms/step - loss: 0.2040 - accuracy: 0.8533 - val_loss: 0.6300 - val_accuracy: 0.6371\n",
            "Epoch 24/25\n",
            "40/40 [==============================] - 22s 550ms/step - loss: 0.1948 - accuracy: 0.8415 - val_loss: 1.5548 - val_accuracy: 0.4286\n",
            "Epoch 25/25\n",
            "40/40 [==============================] - 21s 535ms/step - loss: 0.1760 - accuracy: 0.8778 - val_loss: 0.5040 - val_accuracy: 0.6586\n"
          ]
        }
      ],
      "source": [
        "model.compile(loss=\"binary_crossentropy\", optimizer=\"adam\", metrics=[\"accuracy\"])\n",
        "print(\"Training neural network...\")\n",
        "history = model.fit(\n",
        "    aug.flow(x_train, y_train, batch_size=BS),\n",
        "    validation_data=(x_test, y_test),\n",
        "    steps_per_epoch=len(x_train) // BS,\n",
        "    epochs=EPOCHS, verbose=1\n",
        "    )"
      ]
    },
    {
      "cell_type": "code",
      "execution_count": null,
      "metadata": {
        "id": "AdToMc2j8SE9",
        "colab": {
          "base_uri": "https://localhost:8080/"
        },
        "outputId": "4278a645-1cad-4204-d0e4-5d24fee5b65f"
      },
      "outputs": [
        {
          "output_type": "stream",
          "name": "stdout",
          "text": [
            "{'verbose': 1, 'epochs': 25, 'steps': 40}\n",
            "dict_keys(['loss', 'accuracy', 'val_loss', 'val_accuracy'])\n"
          ]
        }
      ],
      "source": [
        "# [ For checking only ]\n",
        "print(history.params)\n",
        "print(history.history.keys())"
      ]
    },
    {
      "cell_type": "code",
      "execution_count": null,
      "metadata": {
        "id": "2MfOB09akiRU",
        "colab": {
          "base_uri": "https://localhost:8080/",
          "height": 887
        },
        "outputId": "d91d756f-4245-4ac4-9162-a7faa0bba49f"
      },
      "outputs": [
        {
          "output_type": "display_data",
          "data": {
            "text/plain": [
              "<Figure size 640x480 with 1 Axes>"
            ],
            "image/png": "[encoded data removed]"
          },
          "metadata": {}
        },
        {
          "output_type": "display_data",
          "data": {
            "text/plain": [
              "<Figure size 640x480 with 1 Axes>"
            ],
            "image/png": "[encoded data removed]"
          },
          "metadata": {}
        }
      ],
      "source": [
        "acc = history.history['accuracy']\n",
        "val_acc = history.history['val_accuracy']\n",
        "loss = history.history['loss']\n",
        "val_loss = history.history['val_loss']\n",
        "epochs = range(1, len(acc) + 1)\n",
        "#Train and validation accuracy\n",
        "plt.plot(epochs, acc, 'b', label='Training accurarcy')\n",
        "plt.plot(epochs, val_acc, 'r', label='Validation accurarcy')\n",
        "plt.title('Training and Validation accurarcy')\n",
        "plt.legend()\n",
        "\n",
        "plt.figure()\n",
        "#Train and validation loss\n",
        "plt.plot(epochs, loss, 'b', label='Training loss')\n",
        "plt.plot(epochs, val_loss, 'r', label='Validation loss')\n",
        "plt.title('Training and Validation loss')\n",
        "plt.legend()\n",
        "plt.show()"
      ]
    },
    {
      "cell_type": "code",
      "execution_count": null,
      "metadata": {
        "collapsed": true,
        "id": "M8SVhwYUkiRU",
        "colab": {
          "base_uri": "https://localhost:8080/"
        },
        "outputId": "8a782ce6-ce94-4519-c812-31b3a0544499"
      },
      "outputs": [
        {
          "output_type": "stream",
          "name": "stdout",
          "text": [
            "Model saved\n",
            "Calculating model accuracy:\n",
            "22/22 [==============================] - 2s 33ms/step - loss: 0.5040 - accuracy: 0.6586\n",
            "Test Accuracy: 66%\n"
          ]
        }
      ],
      "source": [
        "model.save(\"endoscopy.keras\")\n",
        "print('Model saved')\n",
        "print(\"Calculating model accuracy:\")\n",
        "loaded_model = load_model(\"endoscopy.keras\")\n",
        "scores = loaded_model.evaluate(x_test, y_test)\n",
        "print(f\"Test Accuracy: {round(scores[1]*100)}%\")"
      ]
    },
    {
      "cell_type": "code",
      "execution_count": null,
      "metadata": {
        "collapsed": true,
        "id": "5MaIKDCvkiRU",
        "colab": {
          "base_uri": "https://localhost:8080/"
        },
        "outputId": "223e6de1-45ec-4268-a0f1-1aaf2e97412a"
      },
      "outputs": [
        {
          "output_type": "stream",
          "name": "stdout",
          "text": [
            "1/1 [==============================] - 1s 753ms/step\n",
            "[[8.3510022e-06 3.1811255e-04 2.8580211e-03 2.2957191e-05 8.4039085e-02\n",
            "  1.9869252e-05 8.7154651e-05 2.4789264e-02 8.8707161e-01 7.8556308e-04]]\n",
            "probability:0.8870716\n",
            "Reduced mucosal view\n"
          ]
        }
      ],
      "source": [
        "image_location = f\"/content/main_input/labelled_images/reduced_mucosal_view/Reduced mucosal view/8ebf0e483cac48d6_15375.jpg\"\n",
        "im=convert_image_to_array(image_location)\n",
        "np_image_li = np.array(im, dtype=np.float16) / 225.0\n",
        "npp_image = np.expand_dims(np_image_li, axis=0)\n",
        "result = loaded_model.predict(npp_image)\n",
        "print(result)\n",
        "itemindex = np.where(result==np.max(result))\n",
        "print(\"probability:\"+str(np.max(result))+\"\\n\"+label_binarizer.classes_[itemindex[1][0]])"
      ]
    }
  ],
  "metadata": {
    "accelerator": "GPU",
    "colab": {
      "gpuType": "T4",
      "provenance": []
    },
    "kernelspec": {
      "display_name": "Python 3",
      "name": "python3"
    },
    "language_info": {
      "codemirror_mode": {
        "name": "ipython",
        "version": 3
      },
      "file_extension": ".py",
      "mimetype": "text/x-python",
      "name": "python",
      "nbconvert_exporter": "python",
      "pygments_lexer": "ipython3",
      "version": "3.10.12"
    }
  },
  "nbformat": 4,
  "nbformat_minor": 0
}